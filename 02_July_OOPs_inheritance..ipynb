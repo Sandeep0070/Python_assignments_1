{
 "cells": [
  {
   "cell_type": "markdown",
   "metadata": {},
   "source": [
    "#### 1. Explain what inheritance is in object-oriented programming and why it is used."
   ]
  },
  {
   "cell_type": "markdown",
   "metadata": {},
   "source": [
    "Definition: Inheritance is an OOP concept where a new class (subclass) can inherit attributes and methods from an existing class (superclass).\n",
    "\n",
    "Superclass: The class being inherited from, providing a template for common attributes and methods.\n",
    "\n",
    "Subclass: The class inheriting from the superclass, gaining access to inherited features and able to add or override them."
   ]
  },
  {
   "cell_type": "markdown",
   "metadata": {},
   "source": [
    "#### 2. Discuss the concept of single inheritance and multiple inheritance, highlighting their differences and advantages."
   ]
  },
  {
   "cell_type": "markdown",
   "metadata": {},
   "source": [
    "Single Inheritance:\n",
    "\n",
    "Inherits from one superclass.\n",
    "Linear hierarchy.\n",
    "Simplicity and reduced complexity.\n",
    "No ambiguity in method resolution.\n",
    "\n",
    "Multiple Inheritance:\n",
    "\n",
    "Inherits from more than one superclass.\n",
    "Complex hierarchy with potential branches.\n",
    "Code reusability and flexibility.\n",
    "Potential for ambiguity (Diamond Problem)."
   ]
  },
  {
   "cell_type": "markdown",
   "metadata": {},
   "source": [
    "#### 3. Explain the terms \"base class\" and \"derived class\" in the context of inheritance."
   ]
  },
  {
   "cell_type": "markdown",
   "metadata": {},
   "source": [
    "Base Class (Superclass):\n",
    "\n",
    "Definition: The base class, also known as the superclass or parent class, is the class whose attributes and methods are inherited by another class.\n",
    "\n",
    "Characteristics:\n",
    "\n",
    "Serves as a template or blueprint for creating new classes.\n",
    "Contains common features shared by one or more subclasses.\n",
    "Does not inherit from any other class.\n",
    "\n",
    "Derived Class (Subclass):\n",
    "\n",
    "Definition: The derived class, also known as the subclass or child class, is the class that inherits attributes and methods from another class (the base class).\n",
    "\n",
    "Characteristics:\n",
    "\n",
    "Inherits features from a base class.\n",
    "Can have additional attributes and methods or override existing ones.\n",
    "Represents a specialized or extended version of the base class.\n",
    "Example:"
   ]
  },
  {
   "cell_type": "markdown",
   "metadata": {},
   "source": [
    "#### 4.What is the significance of the \"protected\" access modifier in inheritance? How doesit differ from \"private\" and \"public\" modifiers?"
   ]
  },
  {
   "cell_type": "code",
   "execution_count": null,
   "metadata": {},
   "outputs": [],
   "source": [
    "Significance:\n",
    "\n",
    "Accessible within the class and its subclasses (derived classes).\n",
    "Encourages encapsulation while allowing limited access.\n",
    "Differences:\n",
    "\n",
    "Public (public): Accessible from anywhere.\n",
    "Protected (protected): Accessible within the class and subclasses.\n",
    "Private (private): Accessible only within the class.\n",
    "Prefixes:\n",
    "\n",
    "Public: No underscore.\n",
    "Protected: Single underscore.\n",
    "Private: Double underscore.\n",
    "Choosing:\n",
    "\n",
    "Public: General accessibility.\n",
    "Protected: Limited access within the class hierarchy.\n",
    "Private: Restricted to the defining class."
   ]
  },
  {
   "cell_type": "markdown",
   "metadata": {},
   "source": [
    "#### 5. What is the purpose of the \"super\" keyword in inheritance? Provide an example."
   ]
  },
  {
   "cell_type": "markdown",
   "metadata": {},
   "source": [
    "The \"super\" keyword in Python is used to refer to the superclass (parent class) of a derived class (subclass). It is often used to call methods and access attributes of the superclass within the subclass. This is particularly useful when the derived class overrides a method from the superclass and wants to invoke the overridden method."
   ]
  },
  {
   "cell_type": "code",
   "execution_count": 2,
   "metadata": {},
   "outputs": [
    {
     "name": "stdout",
     "output_type": "stream",
     "text": [
      "Generic animal sound\n",
      "Bark bark!\n"
     ]
    }
   ],
   "source": [
    "class Animal:\n",
    "    def make_sound(self):\n",
    "        print(\"Generic animal sound\")\n",
    "\n",
    "class Dog(Animal):\n",
    "    def make_sound(self):\n",
    "        # Calling the overridden method from the base class using super()\n",
    "        super().make_sound()\n",
    "        print(\"Bark bark!\")\n",
    "\n",
    "# Creating an instance of the derived class\n",
    "dog_instance = Dog()\n",
    "\n",
    "# Calling the overridden method in the derived class\n",
    "dog_instance.make_sound()\n"
   ]
  },
  {
   "cell_type": "markdown",
   "metadata": {},
   "source": [
    "#### 6. Create a base class called \"Vehicle\" with attributes like \"make\", \"model\", and \"year\".Then, create a derived class called \"Car\" that inherits from \"Vehicle\" and adds an attribute called \"fuel_type\". Implement appropriate methods in both classes."
   ]
  },
  {
   "cell_type": "code",
   "execution_count": 3,
   "metadata": {},
   "outputs": [
    {
     "name": "stdout",
     "output_type": "stream",
     "text": [
      "Vehicle Information:\n",
      "2022 Toyota Camry\n",
      "\n",
      "Car Information:\n",
      "2023 Tesla Model 3\n",
      "Fuel Type: Electric\n"
     ]
    }
   ],
   "source": [
    "class Vehicle:\n",
    "    def __init__(self, make, model, year):\n",
    "        self.make = make\n",
    "        self.model = model\n",
    "        self.year = year\n",
    "\n",
    "    def display_info(self):\n",
    "        print(f\"{self.year} {self.make} {self.model}\")\n",
    "\n",
    "class Car(Vehicle):\n",
    "    def __init__(self, make, model, year, fuel_type):\n",
    "        # Call the constructor of the base class (Vehicle)\n",
    "        super().__init__(make, model, year)\n",
    "        self.fuel_type = fuel_type\n",
    "\n",
    "    def display_info(self):\n",
    "        # Call the overridden method from the base class\n",
    "        super().display_info()\n",
    "        print(f\"Fuel Type: {self.fuel_type}\")\n",
    "\n",
    "# Example usage:\n",
    "# Creating instances of the classes\n",
    "vehicle_instance = Vehicle(make=\"Toyota\", model=\"Camry\", year=2022)\n",
    "car_instance = Car(make=\"Tesla\", model=\"Model 3\", year=2023, fuel_type=\"Electric\")\n",
    "\n",
    "# Displaying information using methods\n",
    "print(\"Vehicle Information:\")\n",
    "vehicle_instance.display_info()\n",
    "\n",
    "print(\"\\nCar Information:\")\n",
    "car_instance.display_info()\n"
   ]
  },
  {
   "cell_type": "markdown",
   "metadata": {},
   "source": [
    "#### 7. Create a base class called \"Employee\" with attributes like \"name\" and \"salary.\"Derive two classes, \"Manager\" and \"Developer,\" from \"Employee.\" Add an additionalattribute called \"department\" for the \"Manager\" class and \"programming_language\"for the \"Developer\" class."
   ]
  },
  {
   "cell_type": "code",
   "execution_count": 5,
   "metadata": {},
   "outputs": [
    {
     "name": "stdout",
     "output_type": "stream",
     "text": [
      "Manager Information:\n",
      "Name: John Doe\n",
      "Salary: $80000\n",
      "Department: Engineering\n",
      "\n",
      "Developer Information:\n",
      "Name: Jane Smith\n",
      "Salary: $70000\n",
      "Programming Language: Python\n"
     ]
    }
   ],
   "source": [
    "class Employee:\n",
    "    def __init__(self, name, salary):\n",
    "        self.name = name\n",
    "        self.salary = salary\n",
    "\n",
    "    def display_info(self):\n",
    "        print(f\"Name: {self.name}\\nSalary: ${self.salary}\")\n",
    "\n",
    "class Manager(Employee):\n",
    "    def __init__(self, name, salary, department):\n",
    "        # Call the constructor of the base class (Employee)\n",
    "        super().__init__(name, salary)\n",
    "        self.department = department\n",
    "\n",
    "    def display_info(self):\n",
    "        # Call the overridden method from the base class\n",
    "        super().display_info()\n",
    "        print(f\"Department: {self.department}\")\n",
    "\n",
    "class Developer(Employee):\n",
    "    def __init__(self, name, salary, programming_language):\n",
    "        # Call the constructor of the base class (Employee)\n",
    "        super().__init__(name, salary)\n",
    "        self.programming_language = programming_language\n",
    "\n",
    "    def display_info(self):\n",
    "        # Call the overridden method from the base class\n",
    "        super().display_info()\n",
    "        print(f\"Programming Language: {self.programming_language}\")\n",
    "\n",
    "# Example usage:\n",
    "# Creating instances of the classes\n",
    "manager_instance = Manager(name=\"John Doe\", salary=80000, department=\"Engineering\")\n",
    "developer_instance = Developer(name=\"Jane Smith\", salary=70000, programming_language=\"Python\")\n",
    "\n",
    "# Displaying information using methods\n",
    "print(\"Manager Information:\")\n",
    "manager_instance.display_info()\n",
    "\n",
    "print(\"\\nDeveloper Information:\")\n",
    "developer_instance.display_info()\n"
   ]
  },
  {
   "cell_type": "markdown",
   "metadata": {},
   "source": [
    "#### 8. Design a base class called \"Shape\" with attributes like \"colour\" and \"border_width.\"Create derived classes, \"Rectangle\" and \"Circle,\" that inherit from \"Shape\" and addspecific attributes like \"length\" and \"width\" for the \"Rectangle\" class and \"radius\" forthe \"Circle\" class."
   ]
  },
  {
   "cell_type": "code",
   "execution_count": 7,
   "metadata": {},
   "outputs": [
    {
     "name": "stdout",
     "output_type": "stream",
     "text": [
      "Rectangle Information:\n",
      "Colour: Blue\n",
      "Border Width: 2\n",
      "Length: 10\n",
      "Width: 5\n",
      "\n",
      "Circle Information:\n",
      "Colour: Red\n",
      "Border Width: 1\n",
      "Radius: 7\n"
     ]
    }
   ],
   "source": [
    "class Shape:\n",
    "    def __init__(self, colour, border_width):\n",
    "        self.colour = colour\n",
    "        self.border_width = border_width\n",
    "\n",
    "    def display_info(self):\n",
    "        print(f\"Colour: {self.colour}\\nBorder Width: {self.border_width}\")\n",
    "\n",
    "class Rectangle(Shape):\n",
    "    def __init__(self, colour, border_width, length, width):\n",
    "        # Call the constructor of the base class (Shape)\n",
    "        super().__init__(colour, border_width)\n",
    "        self.length = length\n",
    "        self.width = width\n",
    "\n",
    "    def display_info(self):\n",
    "        # Call the overridden method from the base class\n",
    "        super().display_info()\n",
    "        print(f\"Length: {self.length}\\nWidth: {self.width}\")\n",
    "\n",
    "class Circle(Shape):\n",
    "    def __init__(self, colour, border_width, radius):\n",
    "        # Call the constructor of the base class (Shape)\n",
    "        super().__init__(colour, border_width)\n",
    "        self.radius = radius\n",
    "\n",
    "    def display_info(self):\n",
    "        # Call the overridden method from the base class\n",
    "        super().display_info()\n",
    "        print(f\"Radius: {self.radius}\")\n",
    "\n",
    "# Example usage:\n",
    "# Creating instances of the classes\n",
    "rectangle_instance = Rectangle(colour=\"Blue\", border_width=2, length=10, width=5)\n",
    "circle_instance = Circle(colour=\"Red\", border_width=1, radius=7)\n",
    "\n",
    "# Displaying information using methods\n",
    "print(\"Rectangle Information:\")\n",
    "rectangle_instance.display_info()\n",
    "\n",
    "print(\"\\nCircle Information:\")\n",
    "circle_instance.display_info()\n"
   ]
  },
  {
   "cell_type": "markdown",
   "metadata": {},
   "source": [
    "#### 9. Create a base class called \"Device\" with attributes like \"brand\" and \"model.\" Derive two classes, \"Phone\" and \"Tablet,\" from \"Device.\" Add specific attributes like \"screen_size\" for the \"Phone\" class and \"battery_capacity\" for the \"Tablet\" class."
   ]
  },
  {
   "cell_type": "code",
   "execution_count": 8,
   "metadata": {},
   "outputs": [
    {
     "name": "stdout",
     "output_type": "stream",
     "text": [
      "Phone Information:\n",
      "Brand: Apple\n",
      "Model: iPhone 13\n",
      "Screen Size: 6.1 inches\n",
      "\n",
      "Tablet Information:\n",
      "Brand: Samsung\n",
      "Model: Galaxy Tab S7\n",
      "Battery Capacity: 8000 mAh\n"
     ]
    }
   ],
   "source": [
    "class Device:\n",
    "    def __init__(self, brand, model):\n",
    "        self.brand = brand\n",
    "        self.model = model\n",
    "\n",
    "    def display_info(self):\n",
    "        print(f\"Brand: {self.brand}\\nModel: {self.model}\")\n",
    "\n",
    "class Phone(Device):\n",
    "    def __init__(self, brand, model, screen_size):\n",
    "        # Call the constructor of the base class (Device)\n",
    "        super().__init__(brand, model)\n",
    "        self.screen_size = screen_size\n",
    "\n",
    "    def display_info(self):\n",
    "        # Call the overridden method from the base class\n",
    "        super().display_info()\n",
    "        print(f\"Screen Size: {self.screen_size}\")\n",
    "\n",
    "class Tablet(Device):\n",
    "    def __init__(self, brand, model, battery_capacity):\n",
    "        # Call the constructor of the base class (Device)\n",
    "        super().__init__(brand, model)\n",
    "        self.battery_capacity = battery_capacity\n",
    "\n",
    "    def display_info(self):\n",
    "        # Call the overridden method from the base class\n",
    "        super().display_info()\n",
    "        print(f\"Battery Capacity: {self.battery_capacity}\")\n",
    "\n",
    "# Example usage:\n",
    "# Creating instances of the classes\n",
    "phone_instance = Phone(brand=\"Apple\", model=\"iPhone 13\", screen_size=\"6.1 inches\")\n",
    "tablet_instance = Tablet(brand=\"Samsung\", model=\"Galaxy Tab S7\", battery_capacity=\"8000 mAh\")\n",
    "\n",
    "# Displaying information using methods\n",
    "print(\"Phone Information:\")\n",
    "phone_instance.display_info()\n",
    "\n",
    "print(\"\\nTablet Information:\")\n",
    "tablet_instance.display_info()\n"
   ]
  },
  {
   "cell_type": "markdown",
   "metadata": {},
   "source": [
    "#### 10. Create a base class called \"BankAccount\" with attributes like \"account_number\" and \"balance.\" Derive two classes, \"SavingsAccount\" and \"CheckingAccount,\" from \"BankAccount.\" Add specific methods like \"calculate_interest\" for the \"SavingsAccount\" class and \"deduct_fees\" for the \"CheckingAccount\" class."
   ]
  },
  {
   "cell_type": "code",
   "execution_count": 11,
   "metadata": {},
   "outputs": [
    {
     "name": "stdout",
     "output_type": "stream",
     "text": [
      "Savings Account Information:\n",
      "Account Number: S123456\n",
      "Balance: $1000\n",
      "Interest Calculated: $35.0\n",
      "Updated Balance: 1035.0\n",
      "\n",
      "Checking Account Information:\n",
      "Account Number: C789012\n",
      "Balance: $1500\n",
      "Fees Deducted: $25\n",
      "Updated Balance: 1475\n"
     ]
    }
   ],
   "source": [
    "class BankAccount:\n",
    "    def __init__(self, account_number, balance):\n",
    "        self.account_number = account_number\n",
    "        self.balance = balance\n",
    "\n",
    "    def display_info(self):\n",
    "        print(f\"Account Number: {self.account_number}\\nBalance: ${self.balance}\")\n",
    "\n",
    "class SavingsAccount(BankAccount):\n",
    "    def __init__(self, account_number, balance, interest_rate):\n",
    "        # Call the constructor of the base class (BankAccount)\n",
    "        super().__init__(account_number, balance)\n",
    "        self.interest_rate = interest_rate\n",
    "\n",
    "    def calculate_interest(self):\n",
    "        # Calculate interest and update the balance\n",
    "        interest_amount = self.balance * (self.interest_rate / 100)\n",
    "        self.balance += interest_amount\n",
    "        print(f\"Interest Calculated: ${interest_amount}\")\n",
    "        print(\"Updated Balance:\", self.balance)\n",
    "\n",
    "class CheckingAccount(BankAccount):\n",
    "    def __init__(self, account_number, balance, fees):\n",
    "        # Call the constructor of the base class (BankAccount)\n",
    "        super().__init__(account_number, balance)\n",
    "        self.fees = fees\n",
    "\n",
    "    def deduct_fees(self):\n",
    "        # Deduct fees from the balance\n",
    "        if self.balance >= self.fees:\n",
    "            self.balance -= self.fees\n",
    "            print(f\"Fees Deducted: ${self.fees}\")\n",
    "            print(\"Updated Balance:\", self.balance)\n",
    "        else:\n",
    "            print(\"Insufficient balance to deduct fees.\")\n",
    "\n",
    "# Example usage:\n",
    "# Creating instances of the classes\n",
    "savings_account_instance = SavingsAccount(account_number=\"S123456\", balance=1000, interest_rate=3.5)\n",
    "checking_account_instance = CheckingAccount(account_number=\"C789012\", balance=1500, fees=25)\n",
    "\n",
    "# Displaying information using methods\n",
    "print(\"Savings Account Information:\")\n",
    "savings_account_instance.display_info()\n",
    "savings_account_instance.calculate_interest()\n",
    "\n",
    "print(\"\\nChecking Account Information:\")\n",
    "checking_account_instance.display_info()\n",
    "checking_account_instance.deduct_fees()\n"
   ]
  },
  {
   "cell_type": "code",
   "execution_count": null,
   "metadata": {},
   "outputs": [],
   "source": []
  },
  {
   "cell_type": "code",
   "execution_count": null,
   "metadata": {},
   "outputs": [],
   "source": []
  }
 ],
 "metadata": {
  "kernelspec": {
   "display_name": "Python 3",
   "language": "python",
   "name": "python3"
  },
  "language_info": {
   "codemirror_mode": {
    "name": "ipython",
    "version": 3
   },
   "file_extension": ".py",
   "mimetype": "text/x-python",
   "name": "python",
   "nbconvert_exporter": "python",
   "pygments_lexer": "ipython3",
   "version": "3.8.5"
  }
 },
 "nbformat": 4,
 "nbformat_minor": 4
}

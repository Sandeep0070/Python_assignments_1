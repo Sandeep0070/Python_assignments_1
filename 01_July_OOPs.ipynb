{
 "cells": [
  {
   "cell_type": "markdown",
   "metadata": {},
   "source": [
    "#### 1.What is the primary goal of Object-Oriented Programming (OOP)?"
   ]
  },
  {
   "cell_type": "markdown",
   "metadata": {},
   "source": [
    "Primary Goal of Object-Oriented Programming (OOP):\n",
    "\n",
    "Encapsulation:\n",
    "Bundle data and methods into objects.\n",
    "Hide internal details, expose only necessary information.\n",
    "\n",
    "Abstraction:\n",
    "Simplify systems by modeling essential properties.\n",
    "Focus on relevant characteristics, ignore unnecessary details.\n",
    "\n",
    "Inheritance:\n",
    "Create a hierarchy of classes.\n",
    "Facilitate code reuse, organize classes hierarchically.\n",
    "\n",
    "Polymorphism:\n",
    "Enable treating objects of different classes as a common type.\n",
    "Same operation behaves differently on different types."
   ]
  },
  {
   "cell_type": "markdown",
   "metadata": {},
   "source": [
    "#### 2.What is an object in Python?"
   ]
  },
  {
   "cell_type": "markdown",
   "metadata": {},
   "source": [
    "Definition: Instance of a class, representing a real-world entity.\n",
    "\n",
    "Attributes: Variables storing object-specific data.\n",
    "\n",
    "Methods: Functions operating on object data.\n",
    "\n",
    "Encapsulation: Objects encapsulate data and behavior.\n",
    "\n",
    "Dynamic Typing: Object types determined at runtime.\n",
    "\n",
    "Examples: Integers, strings, lists, and custom-defined classes are all objects in Python.\n",
    "Usage: Everything in Python is treated as an object, adhering to object-oriented principles."
   ]
  },
  {
   "cell_type": "markdown",
   "metadata": {},
   "source": [
    "#### 3. What is a class in Python?"
   ]
  },
  {
   "cell_type": "markdown",
   "metadata": {},
   "source": [
    " class is a blueprint or a template for creating objects. It defines the attributes (characteristics) and methods (functions) that the objects created from the class will have. Classes provide a way to model and structure code in an object-oriented fashion, allowing for code organization, reuse, and abstraction."
   ]
  },
  {
   "cell_type": "code",
   "execution_count": 3,
   "metadata": {},
   "outputs": [
    {
     "name": "stdout",
     "output_type": "stream",
     "text": [
      "Toyota\n",
      "Toyota Camry (2024) is starting.\n",
      "Toyota Camry is on the move.\n"
     ]
    }
   ],
   "source": [
    "class Car:\n",
    "    def __init__(self, make, model, year):\n",
    "        self.make = make\n",
    "        self.model = model\n",
    "        self.year = year\n",
    "\n",
    "    def start(self):\n",
    "        print(f\"{self.make} {self.model} ({self.year}) is starting.\")\n",
    "\n",
    "    def drive(self):\n",
    "        print(f\"{self.make} {self.model} is on the move.\")\n",
    "\n",
    "# Creating an object (instance) of the Car class\n",
    "my_car = Car(make=\"Toyota\", model=\"Camry\", year=2024)\n",
    "\n",
    "# Accessing attributes and calling methods of the Car object\n",
    "print(my_car.make)    # Output: Toyota\n",
    "my_car.start()        # Output: Toyota Camry (2022) is starting.\n",
    "my_car.drive()        # Output: Toyota Camry is on the move.\n"
   ]
  },
  {
   "cell_type": "markdown",
   "metadata": {},
   "source": [
    "#### 4. What are attributes and methods in a class?"
   ]
  },
  {
   "cell_type": "markdown",
   "metadata": {},
   "source": [
    "Definition: Attributes are variables that store data related to the class or its instances (objects).\n",
    "    \n",
    "Purpose: They define the state or characteristics of the objects.\n",
    "    \n",
    "Access: Attributes can be accessed and modified using dot notation "
   ]
  },
  {
   "cell_type": "code",
   "execution_count": null,
   "metadata": {},
   "outputs": [],
   "source": [
    "class Car:\n",
    "    def __init__(self, make, model, year):\n",
    "        self.make = make    # Attribute: make\n",
    "        self.model = model  # Attribute: model\n",
    "        self.year = year    # Attribute: year\n"
   ]
  },
  {
   "cell_type": "markdown",
   "metadata": {},
   "source": [
    "#### 5. What is the difference between class variables and instance variables in Python?"
   ]
  },
  {
   "cell_type": "markdown",
   "metadata": {},
   "source": [
    "Class Variables:\n",
    "\n",
    "Definition: Class variables are variables that are shared among all instances of a class.\n",
    "    \n",
    "Declaration: They are defined within the class but outside of any methods using the classname.variable notation.\n",
    "\n",
    "Instance Variables:\n",
    "\n",
    "Definition: Instance variables are variables that belong to individual instances of a class.\n",
    "\n",
    "Declaration: They are defined within the class methods, typically within the __init__ method."
   ]
  },
  {
   "cell_type": "markdown",
   "metadata": {},
   "source": [
    "#### 6. What is the purpose of the self parameter in Python class methods?"
   ]
  },
  {
   "cell_type": "markdown",
   "metadata": {},
   "source": [
    "the self parameter in class methods serves as a reference to the instance of the class itself. It is a convention (the name self is not mandatory; you can use any name) and is used as the first parameter in instance methods. The purpose of self is to allow methods to access and modify the attributes of the instance on which the method is called."
   ]
  },
  {
   "cell_type": "markdown",
   "metadata": {},
   "source": [
    "#### 7. For a library management system, you have to design the \"Book\" class with OOP\n",
    "principles in mind. The “Book” class will have following attributes:\n",
    "\n",
    "a. title: Represents the title of the book.\n",
    "\n",
    "b. author: Represents the author(s) of the book.\n",
    "\n",
    "c. isbn: Represents the ISBN (International Standard Book Number) of the book.\n",
    "\n",
    "d. publication_year: Represents the year of publication of the book.\n",
    "\n",
    "e. available_copies: Represents the number of copies available for checkout.\n",
    "\n",
    "The class will also include the following methods:\n",
    "a. check_out(self): Decrements the available copies by one if there are copies\n",
    "available for checkout.\n",
    "\n",
    "b. return_book(self): Increments the available copies by one when a book is\n",
    "returned.\n",
    "\n",
    "c. display_book_info(self): Displays the information about the book, including its\n",
    "attributes and the number of available copies."
   ]
  },
  {
   "cell_type": "code",
   "execution_count": 4,
   "metadata": {},
   "outputs": [
    {
     "name": "stdout",
     "output_type": "stream",
     "text": [
      "Book Information:\n",
      "Title: The Python Programming Language\n",
      "Author(s): Guido van Rossum\n",
      "ISBN: 978-1-59059-356-1\n",
      "Publication Year: 2005\n",
      "Available Copies: 5\n",
      "Book 'The Python Programming Language' checked out successfully.\n",
      "Book 'The Python Programming Language' returned successfully.\n",
      "Book Information:\n",
      "Title: The Python Programming Language\n",
      "Author(s): Guido van Rossum\n",
      "ISBN: 978-1-59059-356-1\n",
      "Publication Year: 2005\n",
      "Available Copies: 5\n"
     ]
    }
   ],
   "source": [
    "class Book:\n",
    "    def __init__(self, title, author, isbn, publication_year, available_copies):\n",
    "        self.title = title\n",
    "        self.author = author\n",
    "        self.isbn = isbn\n",
    "        self.publication_year = publication_year\n",
    "        self.available_copies = available_copies\n",
    "\n",
    "    def check_out(self):\n",
    "        if self.available_copies > 0:\n",
    "            self.available_copies -= 1\n",
    "            print(f\"Book '{self.title}' checked out successfully.\")\n",
    "        else:\n",
    "            print(f\"Sorry, '{self.title}' is currently not available for checkout.\")\n",
    "\n",
    "    def return_book(self):\n",
    "        self.available_copies += 1\n",
    "        print(f\"Book '{self.title}' returned successfully.\")\n",
    "\n",
    "    def display_book_info(self):\n",
    "        print(f\"Book Information:\")\n",
    "        print(f\"Title: {self.title}\")\n",
    "        print(f\"Author(s): {self.author}\")\n",
    "        print(f\"ISBN: {self.isbn}\")\n",
    "        print(f\"Publication Year: {self.publication_year}\")\n",
    "        print(f\"Available Copies: {self.available_copies}\")\n",
    "\n",
    "# Example usage:\n",
    "# Creating an instance of the Book class\n",
    "book1 = Book(title=\"The Python Programming Language\", author=\"Guido van Rossum\", isbn=\"978-1-59059-356-1\", publication_year=2005, available_copies=5)\n",
    "\n",
    "# Displaying initial book information\n",
    "book1.display_book_info()\n",
    "\n",
    "# Checking out a book\n",
    "book1.check_out()\n",
    "\n",
    "# Returning the book\n",
    "book1.return_book()\n",
    "\n",
    "# Displaying updated book information\n",
    "book1.display_book_info()\n"
   ]
  },
  {
   "cell_type": "markdown",
   "metadata": {},
   "source": [
    "#### 8. For a ticket booking system, you have to design the \"Ticket\" class with OOP\n",
    "principles in mind. The “Ticket” class should have the following attributes:\n",
    "a. ticket_id: Represents the unique identifier for the ticket.\n",
    "    \n",
    "b. event_name: Represents the name of the event.\n",
    "    \n",
    "c. event_date: Represents the date of the event.\n",
    "    \n",
    "d. venue: Represents the venue of the event.\n",
    "    \n",
    "e. seat_number: Represents the seat number associated with the ticket.\n",
    "    \n",
    "f. price: Represents the price of the ticket.\n",
    "    \n",
    "g. is_reserved: Represents the reservation status of the ticket.\n",
    "The class also includes the following methods:\n",
    "a. reserve_ticket(self): Marks the ticket as reserved if it is not already reserved.\n",
    "    \n",
    "b. cancel_reservation(self): Cancels the reservation of the ticket if it is already\n",
    "reserved.\n",
    "\n",
    "c. display_ticket_info(self): Displays the information about the ticket, including its\n",
    "attributes and reservation status."
   ]
  },
  {
   "cell_type": "code",
   "execution_count": 5,
   "metadata": {},
   "outputs": [
    {
     "name": "stdout",
     "output_type": "stream",
     "text": [
      "Ticket Information:\n",
      "Ticket ID: 101\n",
      "Event Name: Concert\n",
      "Event Date: 2022-05-15\n",
      "Venue: City Hall\n",
      "Seat Number: A23\n",
      "Price: $50.0\n",
      "Reservation Status: Not Reserved\n",
      "Ticket 101 reserved successfully.\n",
      "Reservation for Ticket 101 canceled.\n",
      "Ticket Information:\n",
      "Ticket ID: 101\n",
      "Event Name: Concert\n",
      "Event Date: 2022-05-15\n",
      "Venue: City Hall\n",
      "Seat Number: A23\n",
      "Price: $50.0\n",
      "Reservation Status: Not Reserved\n"
     ]
    }
   ],
   "source": [
    "class Ticket:\n",
    "    def __init__(self, ticket_id, event_name, event_date, venue, seat_number, price, is_reserved=False):\n",
    "        self.ticket_id = ticket_id\n",
    "        self.event_name = event_name\n",
    "        self.event_date = event_date\n",
    "        self.venue = venue\n",
    "        self.seat_number = seat_number\n",
    "        self.price = price\n",
    "        self.is_reserved = is_reserved\n",
    "\n",
    "    def reserve_ticket(self):\n",
    "        if not self.is_reserved:\n",
    "            self.is_reserved = True\n",
    "            print(f\"Ticket {self.ticket_id} reserved successfully.\")\n",
    "        else:\n",
    "            print(f\"Ticket {self.ticket_id} is already reserved.\")\n",
    "\n",
    "    def cancel_reservation(self):\n",
    "        if self.is_reserved:\n",
    "            self.is_reserved = False\n",
    "            print(f\"Reservation for Ticket {self.ticket_id} canceled.\")\n",
    "        else:\n",
    "            print(f\"Ticket {self.ticket_id} is not reserved, so cannot cancel reservation.\")\n",
    "\n",
    "    def display_ticket_info(self):\n",
    "        print(f\"Ticket Information:\")\n",
    "        print(f\"Ticket ID: {self.ticket_id}\")\n",
    "        print(f\"Event Name: {self.event_name}\")\n",
    "        print(f\"Event Date: {self.event_date}\")\n",
    "        print(f\"Venue: {self.venue}\")\n",
    "        print(f\"Seat Number: {self.seat_number}\")\n",
    "        print(f\"Price: ${self.price}\")\n",
    "        print(f\"Reservation Status: {'Reserved' if self.is_reserved else 'Not Reserved'}\")\n",
    "\n",
    "# Example usage:\n",
    "# Creating an instance of the Ticket class\n",
    "ticket1 = Ticket(ticket_id=101, event_name=\"Concert\", event_date=\"2022-05-15\", venue=\"City Hall\", seat_number=\"A23\", price=50.0)\n",
    "\n",
    "# Displaying initial ticket information\n",
    "ticket1.display_ticket_info()\n",
    "\n",
    "# Reserving the ticket\n",
    "ticket1.reserve_ticket()\n",
    "\n",
    "# Canceling the reservation\n",
    "ticket1.cancel_reservation()\n",
    "\n",
    "# Displaying updated ticket information\n",
    "ticket1.display_ticket_info()\n"
   ]
  },
  {
   "cell_type": "markdown",
   "metadata": {},
   "source": [
    "#### 9. You are creating a shopping cart for an e-commerce website. Using OOP to model\n",
    "the \"ShoppingCart\" functionality the class should contain following attributes and\n",
    "methods:\n",
    "\n",
    "a. items: Represents the list of items in the shopping cart.\n",
    "The class also includes the following methods:\n",
    "\n",
    "a. add_item(self, item): Adds an item to the shopping cart by appending it to the\n",
    "list of items.\n",
    "\n",
    "b. remove_item(self, item): Removes an item from the shopping cart if it exists in\n",
    "the list.\n",
    "\n",
    "c. view_cart(self): Displays the items currently present in the shopping cart.\n",
    "\n",
    "d. clear_cart(self): Clears all items from the shopping cart by reassigning an\n",
    "empty list to the items attribute."
   ]
  },
  {
   "cell_type": "code",
   "execution_count": 6,
   "metadata": {},
   "outputs": [
    {
     "name": "stdout",
     "output_type": "stream",
     "text": [
      "Item 'Laptop' added to the shopping cart.\n",
      "Item 'Headphones' added to the shopping cart.\n",
      "Items in the shopping cart:\n",
      "- Laptop\n",
      "- Headphones\n",
      "Item 'Laptop' removed from the shopping cart.\n",
      "Shopping cart cleared.\n",
      "The shopping cart is empty.\n"
     ]
    }
   ],
   "source": [
    "class ShoppingCart:\n",
    "    def __init__(self):\n",
    "        self.items = []  # Represents the list of items in the shopping cart\n",
    "\n",
    "    def add_item(self, item):\n",
    "        self.items.append(item)\n",
    "        print(f\"Item '{item}' added to the shopping cart.\")\n",
    "\n",
    "    def remove_item(self, item):\n",
    "        if item in self.items:\n",
    "            self.items.remove(item)\n",
    "            print(f\"Item '{item}' removed from the shopping cart.\")\n",
    "        else:\n",
    "            print(f\"Item '{item}' is not in the shopping cart.\")\n",
    "\n",
    "    def view_cart(self):\n",
    "        if not self.items:\n",
    "            print(\"The shopping cart is empty.\")\n",
    "        else:\n",
    "            print(\"Items in the shopping cart:\")\n",
    "            for item in self.items:\n",
    "                print(f\"- {item}\")\n",
    "\n",
    "    def clear_cart(self):\n",
    "        self.items = []  # Clearing all items by reassigning an empty list\n",
    "        print(\"Shopping cart cleared.\")\n",
    "\n",
    "# Example usage:\n",
    "# Creating an instance of the ShoppingCart class\n",
    "cart = ShoppingCart()\n",
    "\n",
    "# Adding items to the shopping cart\n",
    "cart.add_item(\"Laptop\")\n",
    "cart.add_item(\"Headphones\")\n",
    "\n",
    "# Viewing the contents of the shopping cart\n",
    "cart.view_cart()\n",
    "\n",
    "# Removing an item from the shopping cart\n",
    "cart.remove_item(\"Laptop\")\n",
    "\n",
    "# Clearing the shopping cart\n",
    "cart.clear_cart()\n",
    "\n",
    "# Viewing the contents after clearing\n",
    "cart.view_cart()\n"
   ]
  },
  {
   "cell_type": "markdown",
   "metadata": {},
   "source": [
    "#### 10. Imagine a school management system. You have to design the \"Student\" class using\n",
    "OOP concepts.The “Student” class has the following attributes:\n",
    "a. name: Represents the name of the student.\n",
    "    \n",
    "b. age: Represents the age of the student.\n",
    "    \n",
    "c. grade: Represents the grade or class of the student.\n",
    "    \n",
    "d. student_id: Represents the unique identifier for the student.\n",
    "    \n",
    "e. attendance: Represents the attendance record of the student.\n",
    "    \n",
    "The class should also include the following methods:\n",
    "    \n",
    "a. update_attendance(self, date, status): Updates the attendance record of the\n",
    "student for a given date with the provided status (e.g., present or absent).\n",
    "\n",
    "b. get_attendance(self): Returns the attendance record of the student.\n",
    "    \n",
    "c. get_average_attendance(self): Calculates and returns the average\n",
    "    \n",
    "attendance percentage of the student based on their attendance record."
   ]
  },
  {
   "cell_type": "code",
   "execution_count": 7,
   "metadata": {},
   "outputs": [
    {
     "name": "stdout",
     "output_type": "stream",
     "text": [
      "Attendance for John Doe updated on 2022-05-01: Present.\n",
      "Attendance for John Doe updated on 2022-05-02: Absent.\n",
      "Attendance for John Doe updated on 2022-05-03: Present.\n",
      "Attendance Record: {'2022-05-01': 'present', '2022-05-02': 'absent', '2022-05-03': 'present'}\n",
      "Average Attendance Percentage: 66.67%\n"
     ]
    }
   ],
   "source": [
    "class Student:\n",
    "    def __init__(self, name, age, grade, student_id):\n",
    "        self.name = name\n",
    "        self.age = age\n",
    "        self.grade = grade\n",
    "        self.student_id = student_id\n",
    "        self.attendance = {}  # Dictionary to store attendance records (date: status)\n",
    "\n",
    "    def update_attendance(self, date, status):\n",
    "        if status.lower() in ['present', 'absent']:\n",
    "            self.attendance[date] = status.lower()\n",
    "            print(f\"Attendance for {self.name} updated on {date}: {status.capitalize()}.\")\n",
    "        else:\n",
    "            print(\"Invalid attendance status. Please provide 'present' or 'absent'.\")\n",
    "\n",
    "    def get_attendance(self):\n",
    "        return self.attendance\n",
    "\n",
    "    def get_average_attendance(self):\n",
    "        total_days = len(self.attendance)\n",
    "        if total_days == 0:\n",
    "            return 0.0  # No attendance recorded yet\n",
    "        present_days = list(self.attendance.values()).count('present')\n",
    "        average_percentage = (present_days / total_days) * 100\n",
    "        return round(average_percentage, 2)\n",
    "\n",
    "# Example usage:\n",
    "# Creating an instance of the Student class\n",
    "student1 = Student(name=\"John Doe\", age=15, grade=\"10th\", student_id=\"S12345\")\n",
    "\n",
    "# Updating attendance\n",
    "student1.update_attendance(date=\"2022-05-01\", status=\"present\")\n",
    "student1.update_attendance(date=\"2022-05-02\", status=\"absent\")\n",
    "student1.update_attendance(date=\"2022-05-03\", status=\"present\")\n",
    "\n",
    "# Getting attendance record\n",
    "print(\"Attendance Record:\", student1.get_attendance())\n",
    "\n",
    "# Getting average attendance\n",
    "average_attendance = student1.get_average_attendance()\n",
    "print(f\"Average Attendance Percentage: {average_attendance}%\")\n"
   ]
  }
 ],
 "metadata": {
  "kernelspec": {
   "display_name": "Python 3",
   "language": "python",
   "name": "python3"
  },
  "language_info": {
   "codemirror_mode": {
    "name": "ipython",
    "version": 3
   },
   "file_extension": ".py",
   "mimetype": "text/x-python",
   "name": "python",
   "nbconvert_exporter": "python",
   "pygments_lexer": "ipython3",
   "version": "3.8.5"
  }
 },
 "nbformat": 4,
 "nbformat_minor": 4
}
